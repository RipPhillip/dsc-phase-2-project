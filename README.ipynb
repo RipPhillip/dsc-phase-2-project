{
 "cells": [
  {
   "attachments": {},
   "cell_type": "markdown",
   "metadata": {},
   "source": [
    "# Overview\n",
    "\n",
    "The goal of this project is to look into the King County, Washington housing market from the perspective of a home buyer, potentially a first time home buyer.  Through EDA (exploratory data analysis) and linear regression models, I hope to find the features most relevant to the cost of a home in the King County market. "
   ]
  },
  {
   "cell_type": "markdown",
   "metadata": {},
   "source": [
    "# Exploration\n",
    "\n",
    "1. Analyze the housing market in King County, Washington from the data, May 2014-May 2015.  \n",
    "2. Research the factors and features that are most relevant to the cost of a home in King County and find out what features have the highest correlation to pricing. \n",
    "3. Build some linear regression models, feed in the relevant features, and see the results of each.  Then, choose the best model based on the results of the data and the transformations done to it. "
   ]
  },
  {
   "attachments": {},
   "cell_type": "markdown",
   "metadata": {},
   "source": [
    "# Data and methods\n",
    "Based on the sourced data of King County, Washington's housing market, we find these as the variables:\n",
    "\n",
    "![vars](Screen.png)\n",
    "\n",
    "There was a lot of data scrubbing involved due to a multitude of outliers in some key variables:\n",
    "* Bathrooms\n",
    "* Bedrooms\n",
    "* Price\n",
    "* Sqft_lot\n",
    "\n",
    "The box plots for each were as follows, pre-scrubbing:\n",
    "**Bedrooms above 5 were dropped**\n",
    "![bed](bedroom_outliers.png)\n",
    "\n",
    "**Prices above 1.5 million were dropped**\n",
    "![price](price_outliers.png)\n",
    "\n",
    "**Bathrooms above 4 were dropped**\n",
    "![bath](bathroom_outliers.png)\n",
    "\n",
    "**Sqft_lot above 100,000 were dropped**\n",
    "![sqft](sqft_lot_outliers.png)\n",
    "\n",
    "After dropping these outliers, the data was much easier to manage.  \n",
    "\n",
    "I created a heat map to see where there was collinearity:\n",
    "![heat](heat_map.png)\n",
    "\n",
    "Then, I made a covariance matrix heat map to find the variables that had the highest correlation to price:\n",
    "\n",
    "![covar](covar.png)\n",
    "\n",
    "Based on this information, we see that grade, bathrooms, bedrooms, sqft_living and sqft_living15 have the highest correlation to price.  Given that sqft_living and sqft_above have such a collinearity between each other, sqft_above was dropped. \n",
    "\n",
    "I decided to create a few different models: the first where I didn't transform the data at all and just did a linear regression based on the cleaned data. The second where I standardized the data.  The third where I log-transformed the data. \n",
    "\n"
   ]
  },
  {
   "cell_type": "markdown",
   "metadata": {},
   "source": [
    "# Results\n",
    "\n",
    "The first of my results is a map of longitude and latitude against price of the housing market, where the red dots indicate houses above $1 million and the blue dots indicate under.  The dates are varying darkness of blue and red to show a skew towards the lower and higher end, respectively:\n",
    "\n",
    "![map](map.png)\n",
    "\n",
    "Based on the models, I found with the first model that there was an RMSE (root mean squared error) of about $160,000.  I am using this number because with my best and model, the standardized data model, I also standardized the MSE (mean squared error) and RMSE of the price.  I was able to get an R-squared of .597 with this model and a Jarque-Bera of 100.437.  My QQ plot looked as follows:\n",
    "\n",
    "![qq](mse_and_rmse_of_model_2.png)\n",
    "\n",
    " \n"
   ]
  },
  {
   "cell_type": "markdown",
   "metadata": {},
   "source": [
    "# Conclusions\n",
    "\n",
    "Based on the data and models, we see that grade and sqft_living have the highest effect on the price of a home.  Whereas, after a house has 3 or 4 bedrooms, the price begins to tail off. \n",
    "\n",
    "The issue I ran into is one mentioned before, where my RMSE and MSE prices were transformed and thus, gave a very small number.  So, given that, I went with the RMSE of the first, non-transformed model. \n",
    "\n"
   ]
  },
  {
   "cell_type": "markdown",
   "metadata": {},
   "source": [
    "# Next steps\n",
    "\n",
    "* Gather more data on housing, especially more data on the expensive houses so as to create a better analysis of the overall market. \n",
    "* Develop a new model that standardizes the data, but doesn't perform a transformation on the price that I can't sort out how to reverse without completely re-engineering the model and data.\n",
    "* Perform more EDA on the features.  See what's affecting the R-squared values the most. "
   ]
  },
  {
   "cell_type": "markdown",
   "metadata": {},
   "source": []
  }
 ],
 "metadata": {
  "kernelspec": {
   "display_name": "Python 3",
   "language": "python",
   "name": "python3"
  },
  "language_info": {
   "codemirror_mode": {
    "name": "ipython",
    "version": 3
   },
   "file_extension": ".py",
   "mimetype": "text/x-python",
   "name": "python",
   "nbconvert_exporter": "python",
   "pygments_lexer": "ipython3",
   "version": "3.8.5"
  },
  "toc": {
   "base_numbering": 1,
   "nav_menu": {},
   "number_sections": true,
   "sideBar": true,
   "skip_h1_title": false,
   "title_cell": "Table of Contents",
   "title_sidebar": "Contents",
   "toc_cell": false,
   "toc_position": {},
   "toc_section_display": true,
   "toc_window_display": false
  }
 },
 "nbformat": 4,
 "nbformat_minor": 4
}
